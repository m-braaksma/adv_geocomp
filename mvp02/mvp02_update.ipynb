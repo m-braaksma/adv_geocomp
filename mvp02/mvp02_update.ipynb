{
  "cells": [
    {
      "cell_type": "raw",
      "metadata": {},
      "source": [
        "---\n",
        "title: \"MVP 2\"\n",
        "subtitle: \"Advanced Geocomputation\"\n",
        "author: \n",
        "    name: Matt Braaksma\n",
        "    affiliations: University of Minnesota\n",
        "date: 10/03/2024\n",
        "date-format: long\n",
        "format: \n",
        "    clean-revealjs:\n",
        "        embed-resources: true\n",
        "        incremental: false\n",
        "        title-slide-attributes: \n",
        "            data-background-image: UMN9_M-1line-blk.png\n",
        "            data-background-size: 25%\n",
        "            data-background-position: 4% 97%\n",
        "        html-math-method: katex\n",
        "        scrollable: true\n",
        "---"
      ],
      "id": "36b9a119"
    },
    {
      "cell_type": "code",
      "metadata": {},
      "source": [
        "from pyrosm import OSM\n",
        "from pyrosm import get_data\n",
        "import matplotlib.pyplot as plt\n",
        "\n",
        "import osmnx as ox\n",
        "import geopandas as gpd\n",
        "from osgeo import gdal\n",
        "\n",
        "import warnings\n",
        "warnings.filterwarnings(\"ignore\", message=\"/Users/mbraaksma/mambaforge/envs/geovenv1/lib/python3.10/site-packages/shapely/predicates.py:798: RuntimeWarning: invalid value encountered in intersects\")\n",
        "warnings.filterwarnings(\"ignore\", message=\"/Users/mbraaksma/mambaforge/envs/geovenv1/lib/python3.10/site-packages/shapely/predicates.py:340: RuntimeWarning: invalid value encountered in intersects\")"
      ],
      "id": "3c42d8da",
      "execution_count": null,
      "outputs": []
    },
    {
      "cell_type": "markdown",
      "metadata": {},
      "source": [
        "## Overview\n",
        "- OpenStreetMap (OSM) includes a layer of land use/land cover (LULC) data\n",
        "- Remote sensing data can be converted to LULC\n",
        "\n",
        "> How does LULC data in OSM differ from remote sensing LULC? \n",
        "\n",
        "## Approach and Challenges\n",
        "1. Source Data\n",
        "    - OSM LULC\n",
        "    - NLCD LULC\n",
        "2. Convert OSM data to raster format\n",
        "3. Create correspondence between OSM and NLCD classes\n",
        "4. Analyze correlations between different classes and locations\n",
        "\n",
        "## Progress\n",
        "\n",
        ":::: {.columns}\n",
        "\n",
        "::: {.column}\n",
        "### OSM LULC"
      ],
      "id": "64bf3d53"
    },
    {
      "cell_type": "markdown",
      "metadata": {},
      "source": [
        ":::\n",
        "\n",
        "::: {.column}\n",
        "### NLCD LULC"
      ],
      "id": "981cc298"
    },
    {
      "cell_type": "markdown",
      "metadata": {},
      "source": [
        ":::\n",
        "\n",
        "::::\n"
      ],
      "id": "2990b3b6"
    }
  ],
  "metadata": {
    "kernelspec": {
      "name": "python3",
      "language": "python",
      "display_name": "Python 3 (ipykernel)"
    }
  },
  "nbformat": 4,
  "nbformat_minor": 5
}